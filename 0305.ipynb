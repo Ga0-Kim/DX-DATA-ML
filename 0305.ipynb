{
 "cells": [
  {
   "cell_type": "code",
   "execution_count": 2,
   "id": "e820ccdd",
   "metadata": {},
   "outputs": [],
   "source": [
    "import numpy as np\n",
    "import pandas as pd\n",
    "import seaborn as sns\n",
    "# 통계량 계산이나 기본적인 데이터분석을 위한 패키지\n",
    "import scipy as sp\n",
    "import scipy.stats\n",
    "\n",
    "#시각화 패키지\n",
    "import matplotlib.pyplot as plt\n",
    "\n",
    "#시각화에서 한글을 사용하기 위한 설정\n",
    "import platform\n",
    "from matplotlib import font_manager, rc\n",
    "\n",
    "if platform.system() == 'Darwin':\n",
    "    rc('font', family='AppleGothic')\n",
    "    \n",
    "#윈도우의 경우\n",
    "elif platform.system() == 'Windows':\n",
    "    font_name = font_manager.FontProperties(fname=\"c:/Windows/Fonts/malgun.ttf\").get_name()\n",
    "    rc('font', family=font_name)\n",
    "\n",
    "#시각화에서 음수를 표현하기 위한 설정\n",
    "import matplotlib\n",
    "\n",
    "matplotlib.rcParams['axes.unicode_minus'] = False \n",
    "\n",
    "# Jupyter Notebook의 출력을 소수점 이하 3자리로 제한 \n",
    "%precision 3\n",
    "\n",
    "# precision은 소수점은 과학적 표기법으로 변환할 자릿수를 설정\n",
    "# 아래와 같이 하면 소수점 셋째 자리 밑으로는 과학적 표기법으로 표시\n",
    "pd.options.display.precision = 3\n",
    "\n",
    "# 경고창 지우기\n",
    "import warnings\n",
    "warnings.filterwarnings('ignore')"
   ]
  },
  {
   "cell_type": "code",
   "execution_count": 1,
   "id": "57125f26",
   "metadata": {},
   "outputs": [],
   "source": [
    "# 파이썬≥3.5 필수\n",
    "import sys\n",
    "assert sys.version_info >= (3, 5)\n",
    "\n",
    "# 공통 모듈 임포트\n",
    "import numpy as np\n",
    "import pandas as pd\n",
    "import os\n",
    "\n",
    "# 깔끔한 그래프 출력을 위해 \n",
    "%matplotlib inline\n",
    "import matplotlib as mpl\n",
    "import matplotlib.pyplot as plt\n",
    "mpl.rc('axes', labelsize=14)\n",
    "mpl.rc('xtick', labelsize=12)\n",
    "mpl.rc('ytick', labelsize=12)\n",
    "\n",
    "mpl.rcParams['axes.unicode_minus'] = False\n",
    "\n",
    "# Jupyter Notebook의 출력을 소수점 이하 3자리로 제한\n",
    "%precision 3\n",
    "\n",
    "import seaborn as sns\n",
    "\n",
    "import scipy as sp\n",
    "from scipy import stats\n",
    "\n",
    "# 사이킷런 ≥0.20 필수\n",
    "import sklearn\n",
    "assert sklearn.__version__ >= \"0.20\"\n",
    "\n",
    "# 노트북 실행 결과를 동일하게 유지하기 위해\n",
    "# np.random.seed(42)"
   ]
  },
  {
   "cell_type": "markdown",
   "id": "09b6281c",
   "metadata": {},
   "source": [
    "## 회귀"
   ]
  },
  {
   "cell_type": "markdown",
   "id": "30b2eb6f",
   "metadata": {},
   "source": [
    "### 규제"
   ]
  },
  {
   "cell_type": "markdown",
   "id": "87fbaeda",
   "metadata": {},
   "source": [
    "#### Ridge - L2 정규화"
   ]
  },
  {
   "cell_type": "code",
   "execution_count": 7,
   "id": "449aeb1f",
   "metadata": {},
   "outputs": [
    {
     "name": "stdout",
     "output_type": "stream",
     "text": [
      "[1.469]\n",
      "[[1.554]]\n"
     ]
    }
   ],
   "source": [
    "np.random.seed(42)\n",
    "m = 20 \n",
    "X = 3 * np.random.rand(20, 1)\n",
    "y = 1 + 0.5 * X + np.random.randn(m, 1)/ 1.5\n",
    "\n",
    "# 확률적 경사 하강법을 이용한 구현\n",
    "# max_iter 은 최대 반복횟수\n",
    "# eta0는 학습률\n",
    "from sklearn.linear_model import SGDRegressor\n",
    "\n",
    "sgd_reg = SGDRegressor(penalty = 'l2', alpha = 0.1/m,\n",
    "                      max_iter = 1000, eta0 = 0.01, random_state = 42)\n",
    "\n",
    "sgd_reg.fit(X, y)\n",
    "print(sgd_reg.predict([[1.5]]))\n",
    "\n",
    "# Ridge를 이용한 구현\n",
    "from sklearn.linear_model import Ridge\n",
    "\n",
    "sgd_reg = Ridge(alpha = 0.1/m, random_state = 42)\n",
    "\n",
    "sgd_reg.fit(X, y)\n",
    "print(sgd_reg.predict([[1.5]]))"
   ]
  },
  {
   "cell_type": "markdown",
   "id": "61778bf8",
   "metadata": {},
   "source": [
    "### 보스턴 주택 가격 데이터에 Ridge를 적용"
   ]
  },
  {
   "cell_type": "code",
   "execution_count": 10,
   "id": "9ed06690",
   "metadata": {},
   "outputs": [
    {
     "name": "stdout",
     "output_type": "stream",
     "text": [
      "        0      1      2    3      4      5     6      7    8      9     10\n",
      "0    0.006  18.00   2.31  0.0  0.538  6.575  65.2  4.090  1.0  296.0  15.3\n",
      "1  396.900   4.98  24.00  NaN    NaN    NaN   NaN    NaN  NaN    NaN   NaN\n",
      "2    0.027   0.00   7.07  0.0  0.469  6.421  78.9  4.967  2.0  242.0  17.8\n",
      "3  396.900   9.14  21.60  NaN    NaN    NaN   NaN    NaN  NaN    NaN   NaN\n",
      "4    0.027   0.00   7.07  0.0  0.469  7.185  61.1  4.967  2.0  242.0  17.8\n"
     ]
    }
   ],
   "source": [
    "data_url = \"http://lib.stat.cmu.edu/datasets/boston\"\n",
    "#공백 문자 단위로 데이터를 분할해서 읽을\n",
    "#공백 문자가 \\s 이고 +를 추가한 이유는 맨 앞에 공백이 있으면 제거하기 위해서\n",
    "#뒤의 3개의 데이터도 하나의 행에 포함이 되어야 하는데 뒷줄로 넘어감\n",
    "raw_df = pd.read_csv(data_url, sep=\"\\s+\", skiprows=22, header=None)\n",
    "print(raw_df.head())"
   ]
  },
  {
   "cell_type": "code",
   "execution_count": 12,
   "id": "dd977a52",
   "metadata": {},
   "outputs": [],
   "source": [
    "#짝수 행의 2개의 열을 홀수 행에 붙이기\n",
    "#피처 만들기\n",
    "data = np.hstack([raw_df.values[::2, :], raw_df.values[1::2, :2]])\n",
    "#타겟 만들기\n",
    "target = raw_df.values[1::2, 2]"
   ]
  },
  {
   "cell_type": "code",
   "execution_count": 13,
   "id": "c3cac5b9",
   "metadata": {},
   "outputs": [
    {
     "name": "stdout",
     "output_type": "stream",
     "text": [
      "<class 'pandas.core.frame.DataFrame'>\n",
      "RangeIndex: 506 entries, 0 to 505\n",
      "Data columns (total 14 columns):\n",
      " #   Column   Non-Null Count  Dtype  \n",
      "---  ------   --------------  -----  \n",
      " 0   CRIM     506 non-null    float64\n",
      " 1   ZN       506 non-null    float64\n",
      " 2   INDUS    506 non-null    float64\n",
      " 3   CHAS     506 non-null    float64\n",
      " 4   NOX      506 non-null    float64\n",
      " 5   RM       506 non-null    float64\n",
      " 6   AGE      506 non-null    float64\n",
      " 7   DIS      506 non-null    float64\n",
      " 8   RAD      506 non-null    float64\n",
      " 9   TAX      506 non-null    float64\n",
      " 10  PTRATIO  506 non-null    float64\n",
      " 11  B        506 non-null    float64\n",
      " 12  LSTAT    506 non-null    float64\n",
      " 13  PRICE    506 non-null    float64\n",
      "dtypes: float64(14)\n",
      "memory usage: 55.5 KB\n"
     ]
    }
   ],
   "source": [
    "bostonDF = pd.DataFrame(data, columns=[\"CRIM\", \"ZN\", \"INDUS\", \"CHAS\", \"NOX\",\n",
    "                                      \"RM\", \"AGE\", \"DIS\", \"RAD\", \"TAX\", \"PTRATIO\",\n",
    "                                      \"B\", \"LSTAT\"])\n",
    "bostonDF[\"PRICE\"] = target\n",
    "bostonDF.info()"
   ]
  },
  {
   "cell_type": "code",
   "execution_count": 21,
   "id": "0aa2a53d",
   "metadata": {},
   "outputs": [
    {
     "name": "stdout",
     "output_type": "stream",
     "text": [
      "alpha 가 0일 때 평균 RMSE : 5.828658946215806\n",
      "alpha 가 0.1일 때 평균 RMSE : 5.788486627032412\n",
      "alpha 가 1일 때 평균 RMSE : 5.652570965613549\n",
      "alpha 가 10일 때 평균 RMSE : 5.518166280868973\n",
      "alpha 가 100일 때 평균 RMSE : 5.329589628472148\n"
     ]
    }
   ],
   "source": [
    "y_target = bostonDF['PRICE']\n",
    "X_data = bostonDF.drop(['PRICE'], axis =1 )\n",
    "\n",
    "# 사용할 알파 값의 리스트를 생성\n",
    "alphas = [0, 0.1, 1, 10, 100]\n",
    "\n",
    "for alpha in alphas :\n",
    "    ridge = Ridge(alpha = alpha, random_state = 42)\n",
    "    \n",
    "    # 교차 검증\n",
    "    from sklearn.model_selection import cross_val_score\n",
    "    neg_mse_scores = cross_val_score(ridge, X_data, y_target,\n",
    "                                    scoring = 'neg_mean_squared_error',\n",
    "                                    cv = 5)\n",
    "    \n",
    "    # 스코어의 평균\n",
    "    avg_mean = np.mean(np.sqrt(-1 * neg_mse_scores))\n",
    "    print('alpha 가 {0}일 때 평균 RMSE : {1}'.format(alpha, avg_mean))"
   ]
  },
  {
   "cell_type": "code",
   "execution_count": 19,
   "id": "fbbea76f",
   "metadata": {},
   "outputs": [
    {
     "name": "stdout",
     "output_type": "stream",
     "text": [
      "[-1.080e-01  4.642e-02  2.056e-02  2.687e+00 -1.777e+01  3.810e+00\n",
      "  6.922e-04 -1.476e+00  3.060e-01 -1.233e-02 -9.527e-01  9.312e-03\n",
      " -5.248e-01]\n",
      "[-1.075e-01  4.657e-02  1.600e-02  2.670e+00 -1.668e+01  3.818e+00\n",
      " -2.691e-04 -1.460e+00  3.035e-01 -1.242e-02 -9.408e-01  9.368e-03\n",
      " -5.260e-01]\n",
      "[-1.046e-01  4.744e-02 -8.805e-03  2.552e+00 -1.078e+01  3.854e+00\n",
      " -5.415e-03 -1.373e+00  2.901e-01 -1.291e-02 -8.761e-01  9.673e-03\n",
      " -5.333e-01]\n",
      "[-0.101  0.05  -0.043  1.952 -2.372  3.702 -0.011 -1.249  0.28  -0.014\n",
      " -0.798  0.01  -0.559]\n",
      "[-1.022e-01  5.450e-02 -5.283e-02  6.383e-01 -2.628e-01  2.335e+00\n",
      "  1.212e-03 -1.153e+00  3.154e-01 -1.586e-02 -8.292e-01  9.393e-03\n",
      " -6.608e-01]\n"
     ]
    }
   ],
   "source": [
    "# 회귀 계수 확인\n",
    "# 회귀 계수는 알파가 클수록 줄어들지만 0이 되지는 않습니다.\n",
    "\n",
    "for alpha in alphas :\n",
    "    ridge = Ridge(alpha = alpha,  random_state = 42)\n",
    "    ridge.fit(X_data, y_target)\n",
    "    print(ridge.coef_)"
   ]
  },
  {
   "cell_type": "code",
   "execution_count": 27,
   "id": "84fa2d8e",
   "metadata": {},
   "outputs": [
    {
     "data": {
      "image/png": "[encoded data removed]",
      "text/plain": [
       "<Figure size 1800x600 with 5 Axes>"
      ]
     },
     "metadata": {},
     "output_type": "display_data"
    }
   ],
   "source": [
    "# 각 alpha에 따른 회귀 계수 값을 시각화하기 위해 5개의 열로 된 맷플롯립 축 생성\n",
    "fig , axs = plt.subplots(figsize=(18,6) , nrows=1 , ncols=5)\n",
    "\n",
    "# 각 alpha에 따른 회귀 계수 값을 데이터로 저장하기 위한 DataFrame 생성\n",
    "coeff_df = pd.DataFrame()\n",
    "\n",
    "# alphas 리스트 값을 차례로 입력해 회귀 계수 값 시각화 및 데이터 저장. pos는axis의 위치 지정\n",
    "for pos , alpha in enumerate(alphas) :\n",
    "    ridge = Ridge(alpha = alpha)\n",
    "    ridge.fit(X_data , y_target)\n",
    "\n",
    "# alpha에 따른 피처별 회귀 계수를 DataFrame의 컬럼으로 추가.\n",
    "coeff = pd.Series(data=ridge.coef_ , index=X_data.columns )\n",
    "colname='alpha:'+str(alpha)\n",
    "coeff_df[colname] = coeff\n",
    "\n",
    "# 막대 그래프로 각 alpha 값에서의 회귀 계수를 시각화. 회귀 계수값이 높은 순으로 표현\n",
    "coeff = coeff.sort_values(ascending=False)\n",
    "axs[pos].set_title(colname)\n",
    "axs[pos].set_xlim(-3,6)\n",
    "sns.barplot(x=coeff.values , y=coeff.index, ax=axs[pos])\n",
    "plt.show()"
   ]
  },
  {
   "cell_type": "markdown",
   "id": "3b96e139",
   "metadata": {},
   "source": [
    "#### Lasso -  L1 정규화"
   ]
  },
  {
   "cell_type": "code",
   "execution_count": 23,
   "id": "c524b1f0",
   "metadata": {},
   "outputs": [
    {
     "name": "stdout",
     "output_type": "stream",
     "text": [
      "alpha 가 0일 때 평균 RMSE : 5.828658946215802\n",
      "alpha 가 0.1일 때 평균 RMSE : 5.615116035266936\n",
      "alpha 가 1일 때 평균 RMSE : 5.776020813823376\n",
      "alpha 가 10일 때 평균 RMSE : 6.585731788106536\n",
      "alpha 가 100일 때 평균 RMSE : 8.393274554563755\n"
     ]
    }
   ],
   "source": [
    "y_target = bostonDF['PRICE']\n",
    "X_data = bostonDF.drop(['PRICE'], axis =1 )\n",
    "\n",
    "# 사용할 알파 값의 리스트를 생성\n",
    "alphas = [0, 0.1, 1, 10, 100]\n",
    "\n",
    "from sklearn.linear_model import Lasso\n",
    "\n",
    "for alpha in alphas :\n",
    "    lasso = Lasso(alpha = alpha, random_state = 42)\n",
    "    \n",
    "    # 교차 검증\n",
    "    from sklearn.model_selection import cross_val_score\n",
    "    neg_mse_scores = cross_val_score(lasso, X_data, y_target,\n",
    "                                    scoring = 'neg_mean_squared_error',\n",
    "                                    cv = 5)\n",
    "    \n",
    "    # 스코어의 평균\n",
    "    avg_mean = np.mean(np.sqrt(-1 * neg_mse_scores))\n",
    "    print('alpha 가 {0}일 때 평균 RMSE : {1}'.format(alpha, avg_mean))"
   ]
  },
  {
   "cell_type": "code",
   "execution_count": 24,
   "id": "2deaf2fc",
   "metadata": {},
   "outputs": [
    {
     "name": "stdout",
     "output_type": "stream",
     "text": [
      "[-1.080e-01  4.642e-02  2.056e-02  2.687e+00 -1.777e+01  3.810e+00\n",
      "  6.922e-04 -1.476e+00  3.060e-01 -1.233e-02 -9.527e-01  9.312e-03\n",
      " -5.248e-01]\n",
      "[-0.098  0.049 -0.037  0.955 -0.     3.703 -0.01  -1.161  0.275 -0.015\n",
      " -0.771  0.01  -0.569]\n",
      "[-0.063  0.049 -0.     0.    -0.     0.95   0.021 -0.669  0.264 -0.015\n",
      " -0.723  0.008 -0.761]\n",
      "[-0.     0.026 -0.     0.     0.     0.     0.    -0.     0.    -0.009\n",
      " -0.     0.007 -0.564]\n",
      "[-0.     0.    -0.     0.    -0.     0.    -0.     0.    -0.    -0.021\n",
      " -0.     0.004 -0.   ]\n"
     ]
    }
   ],
   "source": [
    "# 회귀 계수 확인\n",
    "# 회귀 계수는 알파가 클수록 덜 중요한 것들은 0이 됩니다.\n",
    "\n",
    "for alpha in alphas :\n",
    "    lasso = Lasso(alpha = alpha,  random_state = 42)\n",
    "    lasso.fit(X_data, y_target)\n",
    "    print(lasso.coef_)"
   ]
  },
  {
   "cell_type": "markdown",
   "id": "b35d246a",
   "metadata": {},
   "source": [
    "#### Elasticnet"
   ]
  },
  {
   "cell_type": "code",
   "execution_count": 30,
   "id": "41d5150d",
   "metadata": {},
   "outputs": [
    {
     "name": "stdout",
     "output_type": "stream",
     "text": [
      "[1.553]\n"
     ]
    }
   ],
   "source": [
    "from sklearn.linear_model import ElasticNet\n",
    "\n",
    "sgd_reg = ElasticNet(alpha = 0.1/m, l1_ratio = 0.7,  random_state = 42)\n",
    "sgd_reg.fit(X, y)\n",
    "print(sgd_reg.predict([[1.5]]))"
   ]
  },
  {
   "cell_type": "markdown",
   "id": "1e65f489",
   "metadata": {},
   "source": [
    "## KNN"
   ]
  },
  {
   "cell_type": "code",
   "execution_count": 41,
   "id": "a2ad7f1e",
   "metadata": {},
   "outputs": [
    {
     "name": "stdout",
     "output_type": "stream",
     "text": [
      "[24.]\n",
      "24.0\n"
     ]
    }
   ],
   "source": [
    "from sklearn.neighbors import KNeighborsRegressor\n",
    "\n",
    "y_target = bostonDF['PRICE']\n",
    "X_data = bostonDF.drop(['PRICE'], axis =1 )\n",
    "\n",
    "#가중 평균 적용\n",
    "regressor = KNeighborsRegressor(n_neighbors = 3, weights = 'distance')\n",
    "regressor.fit(X_data, y_target)\n",
    "\n",
    "# print(X_data.head())\n",
    "# print(X_data.loc[0])\n",
    "# print(X_data.loc[0].values)\n",
    "# print(X_data.loc[0].values.reshape(13,1))\n",
    "print(regressor.predict(X_data.loc[0].values.reshape(1, 13)))\n",
    "print(y_target.loc[0])"
   ]
  },
  {
   "cell_type": "markdown",
   "id": "757b6501",
   "metadata": {},
   "source": [
    "## Decsion Tree"
   ]
  },
  {
   "cell_type": "markdown",
   "id": "08861e23",
   "metadata": {},
   "source": [
    "### API 사용"
   ]
  },
  {
   "cell_type": "code",
   "execution_count": 43,
   "id": "a15aacf2",
   "metadata": {},
   "outputs": [
    {
     "data": {
      "text/html": [
       "<style>#sk-container-id-1 {color: black;}#sk-container-id-1 pre{padding: 0;}#sk-container-id-1 div.sk-toggleable {background-color: white;}#sk-container-id-1 label.sk-toggleable__label {cursor: pointer;display: block;width: 100%;margin-bottom: 0;padding: 0.3em;box-sizing: border-box;text-align: center;}#sk-container-id-1 label.sk-toggleable__label-arrow:before {content: \"▸\";float: left;margin-right: 0.25em;color: #696969;}#sk-container-id-1 label.sk-toggleable__label-arrow:hover:before {color: black;}#sk-container-id-1 div.sk-estimator:hover label.sk-toggleable__label-arrow:before {color: black;}#sk-container-id-1 div.sk-toggleable__content {max-height: 0;max-width: 0;overflow: hidden;text-align: left;background-color: #f0f8ff;}#sk-container-id-1 div.sk-toggleable__content pre {margin: 0.2em;color: black;border-radius: 0.25em;background-color: #f0f8ff;}#sk-container-id-1 input.sk-toggleable__control:checked~div.sk-toggleable__content {max-height: 200px;max-width: 100%;overflow: auto;}#sk-container-id-1 input.sk-toggleable__control:checked~label.sk-toggleable__label-arrow:before {content: \"▾\";}#sk-container-id-1 div.sk-estimator input.sk-toggleable__control:checked~label.sk-toggleable__label {background-color: #d4ebff;}#sk-container-id-1 div.sk-label input.sk-toggleable__control:checked~label.sk-toggleable__label {background-color: #d4ebff;}#sk-container-id-1 input.sk-hidden--visually {border: 0;clip: rect(1px 1px 1px 1px);clip: rect(1px, 1px, 1px, 1px);height: 1px;margin: -1px;overflow: hidden;padding: 0;position: absolute;width: 1px;}#sk-container-id-1 div.sk-estimator {font-family: monospace;background-color: #f0f8ff;border: 1px dotted black;border-radius: 0.25em;box-sizing: border-box;margin-bottom: 0.5em;}#sk-container-id-1 div.sk-estimator:hover {background-color: #d4ebff;}#sk-container-id-1 div.sk-parallel-item::after {content: \"\";width: 100%;border-bottom: 1px solid gray;flex-grow: 1;}#sk-container-id-1 div.sk-label:hover label.sk-toggleable__label {background-color: #d4ebff;}#sk-container-id-1 div.sk-serial::before {content: \"\";position: absolute;border-left: 1px solid gray;box-sizing: border-box;top: 0;bottom: 0;left: 50%;z-index: 0;}#sk-container-id-1 div.sk-serial {display: flex;flex-direction: column;align-items: center;background-color: white;padding-right: 0.2em;padding-left: 0.2em;position: relative;}#sk-container-id-1 div.sk-item {position: relative;z-index: 1;}#sk-container-id-1 div.sk-parallel {display: flex;align-items: stretch;justify-content: center;background-color: white;position: relative;}#sk-container-id-1 div.sk-item::before, #sk-container-id-1 div.sk-parallel-item::before {content: \"\";position: absolute;border-left: 1px solid gray;box-sizing: border-box;top: 0;bottom: 0;left: 50%;z-index: -1;}#sk-container-id-1 div.sk-parallel-item {display: flex;flex-direction: column;z-index: 1;position: relative;background-color: white;}#sk-container-id-1 div.sk-parallel-item:first-child::after {align-self: flex-end;width: 50%;}#sk-container-id-1 div.sk-parallel-item:last-child::after {align-self: flex-start;width: 50%;}#sk-container-id-1 div.sk-parallel-item:only-child::after {width: 0;}#sk-container-id-1 div.sk-dashed-wrapped {border: 1px dashed gray;margin: 0 0.4em 0.5em 0.4em;box-sizing: border-box;padding-bottom: 0.4em;background-color: white;}#sk-container-id-1 div.sk-label label {font-family: monospace;font-weight: bold;display: inline-block;line-height: 1.2em;}#sk-container-id-1 div.sk-label-container {text-align: center;}#sk-container-id-1 div.sk-container {/* jupyter's `normalize.less` sets `[hidden] { display: none; }` but bootstrap.min.css set `[hidden] { display: none !important; }` so we also need the `!important` here to be able to override the default hidden behavior on the sphinx rendered scikit-learn.org. See: https://github.com/scikit-learn/scikit-learn/issues/21755 */display: inline-block !important;position: relative;}#sk-container-id-1 div.sk-text-repr-fallback {display: none;}</style><div id=\"sk-container-id-1\" class=\"sk-top-container\"><div class=\"sk-text-repr-fallback\"><pre>DecisionTreeRegressor(max_depth=2, random_state=42)</pre><b>In a Jupyter environment, please rerun this cell to show the HTML representation or trust the notebook. <br />On GitHub, the HTML representation is unable to render, please try loading this page with nbviewer.org.</b></div><div class=\"sk-container\" hidden><div class=\"sk-item\"><div class=\"sk-estimator sk-toggleable\"><input class=\"sk-toggleable__control sk-hidden--visually\" id=\"sk-estimator-id-1\" type=\"checkbox\" checked><label for=\"sk-estimator-id-1\" class=\"sk-toggleable__label sk-toggleable__label-arrow\">DecisionTreeRegressor</label><div class=\"sk-toggleable__content\"><pre>DecisionTreeRegressor(max_depth=2, random_state=42)</pre></div></div></div></div></div>"
      ],
      "text/plain": [
       "DecisionTreeRegressor(max_depth=2, random_state=42)"
      ]
     },
     "execution_count": 43,
     "metadata": {},
     "output_type": "execute_result"
    }
   ],
   "source": [
    "m = 200\n",
    "X = np.random.rand(m, 1)\n",
    "y = 4 * (X - 0.5) ** 2 + np.random.randn(m, 1)/10\n",
    "\n",
    "from sklearn.tree import DecisionTreeRegressor\n",
    "\n",
    "tree_reg = DecisionTreeRegressor(max_depth = 2, random_state = 42)\n",
    "tree_reg.fit(X, y)"
   ]
  },
  {
   "cell_type": "code",
   "execution_count": 44,
   "id": "f675050c",
   "metadata": {},
   "outputs": [],
   "source": [
    "# 시각화\n",
    "from graphviz import Source\n",
    "from sklearn.tree import export_graphviz\n",
    "\n",
    "# decision_tree_dot이라는 파일로 저장\n",
    "export_graphviz(tree_reg, out_file = 'decision_tree.dot',\n",
    "               feature_names =['X'], class_names = ['y'],\n",
    "               rounded = True, filled = True)"
   ]
  },
  {
   "cell_type": "code",
   "execution_count": 45,
   "id": "921bf556",
   "metadata": {},
   "outputs": [
    {
     "data": {
      "image/svg+xml": [
       "<?xml version=\"1.0\" encoding=\"UTF-8\" standalone=\"no\"?>\n",
       "<!DOCTYPE svg PUBLIC \"-//W3C//DTD SVG 1.1//EN\"\n",
       " \"http://www.w3.org/Graphics/SVG/1.1/DTD/svg11.dtd\">\n",
       "<!-- Generated by graphviz version 10.0.1 (20240210.2158)\n",
       " -->\n",
       "<!-- Title: Tree Pages: 1 -->\n",
       "<svg width=\"698pt\" height=\"286pt\"\n",
       " viewBox=\"0.00 0.00 697.50 285.50\" xmlns=\"http://www.w3.org/2000/svg\" xmlns:xlink=\"http://www.w3.org/1999/xlink\">\n",
       "<g id=\"graph0\" class=\"graph\" transform=\"scale(1 1) rotate(0) translate(4 281.5)\">\n",
       "<title>Tree</title>\n",
       "<polygon fill=\"white\" stroke=\"none\" points=\"-4,4 -4,-281.5 693.5,-281.5 693.5,4 -4,4\"/>\n",
       "<!-- 0 -->\n",
       "<g id=\"node1\" class=\"node\">\n",
       "<title>0</title>\n",
       "<path fill=\"#f8dfcc\" stroke=\"black\" d=\"M411.5,-277.5C411.5,-277.5 277,-277.5 277,-277.5 271,-277.5 265,-271.5 265,-265.5 265,-265.5 265,-215.5 265,-215.5 265,-209.5 271,-203.5 277,-203.5 277,-203.5 411.5,-203.5 411.5,-203.5 417.5,-203.5 423.5,-209.5 423.5,-215.5 423.5,-215.5 423.5,-265.5 423.5,-265.5 423.5,-271.5 417.5,-277.5 411.5,-277.5\"/>\n",
       "<text text-anchor=\"middle\" x=\"344.25\" y=\"-260.2\" font-family=\"Helvetica,sans-Serif\" font-size=\"14.00\">X &lt;= 0.143</text>\n",
       "<text text-anchor=\"middle\" x=\"344.25\" y=\"-243.7\" font-family=\"Helvetica,sans-Serif\" font-size=\"14.00\">squared_error = 0.092</text>\n",
       "<text text-anchor=\"middle\" x=\"344.25\" y=\"-227.2\" font-family=\"Helvetica,sans-Serif\" font-size=\"14.00\">samples = 200</text>\n",
       "<text text-anchor=\"middle\" x=\"344.25\" y=\"-210.7\" font-family=\"Helvetica,sans-Serif\" font-size=\"14.00\">value = 0.352</text>\n",
       "</g>\n",
       "<!-- 1 -->\n",
       "<g id=\"node2\" class=\"node\">\n",
       "<title>1</title>\n",
       "<path fill=\"#ea9b62\" stroke=\"black\" d=\"M323.5,-167.5C323.5,-167.5 189,-167.5 189,-167.5 183,-167.5 177,-161.5 177,-155.5 177,-155.5 177,-105.5 177,-105.5 177,-99.5 183,-93.5 189,-93.5 189,-93.5 323.5,-93.5 323.5,-93.5 329.5,-93.5 335.5,-99.5 335.5,-105.5 335.5,-105.5 335.5,-155.5 335.5,-155.5 335.5,-161.5 329.5,-167.5 323.5,-167.5\"/>\n",
       "<text text-anchor=\"middle\" x=\"256.25\" y=\"-150.2\" font-family=\"Helvetica,sans-Serif\" font-size=\"14.00\">X &lt;= 0.058</text>\n",
       "<text text-anchor=\"middle\" x=\"256.25\" y=\"-133.7\" font-family=\"Helvetica,sans-Serif\" font-size=\"14.00\">squared_error = 0.025</text>\n",
       "<text text-anchor=\"middle\" x=\"256.25\" y=\"-117.2\" font-family=\"Helvetica,sans-Serif\" font-size=\"14.00\">samples = 31</text>\n",
       "<text text-anchor=\"middle\" x=\"256.25\" y=\"-100.7\" font-family=\"Helvetica,sans-Serif\" font-size=\"14.00\">value = 0.74</text>\n",
       "</g>\n",
       "<!-- 0&#45;&gt;1 -->\n",
       "<g id=\"edge1\" class=\"edge\">\n",
       "<title>0&#45;&gt;1</title>\n",
       "<path fill=\"none\" stroke=\"black\" d=\"M314.7,-203.24C307.74,-194.69 300.23,-185.47 292.99,-176.59\"/>\n",
       "<polygon fill=\"black\" stroke=\"black\" points=\"295.86,-174.57 286.83,-169.02 290.43,-178.99 295.86,-174.57\"/>\n",
       "<text text-anchor=\"middle\" x=\"283.33\" y=\"-187.67\" font-family=\"Helvetica,sans-Serif\" font-size=\"14.00\">True</text>\n",
       "</g>\n",
       "<!-- 4 -->\n",
       "<g id=\"node5\" class=\"node\">\n",
       "<title>4</title>\n",
       "<path fill=\"#fbebdf\" stroke=\"black\" d=\"M500.5,-167.5C500.5,-167.5 366,-167.5 366,-167.5 360,-167.5 354,-161.5 354,-155.5 354,-155.5 354,-105.5 354,-105.5 354,-99.5 360,-93.5 366,-93.5 366,-93.5 500.5,-93.5 500.5,-93.5 506.5,-93.5 512.5,-99.5 512.5,-105.5 512.5,-105.5 512.5,-155.5 512.5,-155.5 512.5,-161.5 506.5,-167.5 500.5,-167.5\"/>\n",
       "<text text-anchor=\"middle\" x=\"433.25\" y=\"-150.2\" font-family=\"Helvetica,sans-Serif\" font-size=\"14.00\">X &lt;= 0.808</text>\n",
       "<text text-anchor=\"middle\" x=\"433.25\" y=\"-133.7\" font-family=\"Helvetica,sans-Serif\" font-size=\"14.00\">squared_error = 0.072</text>\n",
       "<text text-anchor=\"middle\" x=\"433.25\" y=\"-117.2\" font-family=\"Helvetica,sans-Serif\" font-size=\"14.00\">samples = 169</text>\n",
       "<text text-anchor=\"middle\" x=\"433.25\" y=\"-100.7\" font-family=\"Helvetica,sans-Serif\" font-size=\"14.00\">value = 0.281</text>\n",
       "</g>\n",
       "<!-- 0&#45;&gt;4 -->\n",
       "<g id=\"edge4\" class=\"edge\">\n",
       "<title>0&#45;&gt;4</title>\n",
       "<path fill=\"none\" stroke=\"black\" d=\"M374.13,-203.24C381.18,-194.69 388.77,-185.47 396.09,-176.59\"/>\n",
       "<polygon fill=\"black\" stroke=\"black\" points=\"398.67,-178.96 402.33,-169.02 393.27,-174.51 398.67,-178.96\"/>\n",
       "<text text-anchor=\"middle\" x=\"405.69\" y=\"-187.69\" font-family=\"Helvetica,sans-Serif\" font-size=\"14.00\">False</text>\n",
       "</g>\n",
       "<!-- 2 -->\n",
       "<g id=\"node3\" class=\"node\">\n",
       "<title>2</title>\n",
       "<path fill=\"#e58139\" stroke=\"black\" d=\"M146.5,-57.5C146.5,-57.5 12,-57.5 12,-57.5 6,-57.5 0,-51.5 0,-45.5 0,-45.5 0,-12 0,-12 0,-6 6,0 12,0 12,0 146.5,0 146.5,0 152.5,0 158.5,-6 158.5,-12 158.5,-12 158.5,-45.5 158.5,-45.5 158.5,-51.5 152.5,-57.5 146.5,-57.5\"/>\n",
       "<text text-anchor=\"middle\" x=\"79.25\" y=\"-40.2\" font-family=\"Helvetica,sans-Serif\" font-size=\"14.00\">squared_error = 0.011</text>\n",
       "<text text-anchor=\"middle\" x=\"79.25\" y=\"-23.7\" font-family=\"Helvetica,sans-Serif\" font-size=\"14.00\">samples = 13</text>\n",
       "<text text-anchor=\"middle\" x=\"79.25\" y=\"-7.2\" font-family=\"Helvetica,sans-Serif\" font-size=\"14.00\">value = 0.891</text>\n",
       "</g>\n",
       "<!-- 1&#45;&gt;2 -->\n",
       "<g id=\"edge2\" class=\"edge\">\n",
       "<title>1&#45;&gt;2</title>\n",
       "<path fill=\"none\" stroke=\"black\" d=\"M191.6,-93.06C174.43,-83.39 155.96,-72.98 139.06,-63.46\"/>\n",
       "<polygon fill=\"black\" stroke=\"black\" points=\"141.06,-60.57 130.63,-58.71 137.63,-66.67 141.06,-60.57\"/>\n",
       "</g>\n",
       "<!-- 3 -->\n",
       "<g id=\"node4\" class=\"node\">\n",
       "<title>3</title>\n",
       "<path fill=\"#eeae80\" stroke=\"black\" d=\"M323.5,-57.5C323.5,-57.5 189,-57.5 189,-57.5 183,-57.5 177,-51.5 177,-45.5 177,-45.5 177,-12 177,-12 177,-6 183,0 189,0 189,0 323.5,0 323.5,0 329.5,0 335.5,-6 335.5,-12 335.5,-12 335.5,-45.5 335.5,-45.5 335.5,-51.5 329.5,-57.5 323.5,-57.5\"/>\n",
       "<text text-anchor=\"middle\" x=\"256.25\" y=\"-40.2\" font-family=\"Helvetica,sans-Serif\" font-size=\"14.00\">squared_error = 0.007</text>\n",
       "<text text-anchor=\"middle\" x=\"256.25\" y=\"-23.7\" font-family=\"Helvetica,sans-Serif\" font-size=\"14.00\">samples = 18</text>\n",
       "<text text-anchor=\"middle\" x=\"256.25\" y=\"-7.2\" font-family=\"Helvetica,sans-Serif\" font-size=\"14.00\">value = 0.631</text>\n",
       "</g>\n",
       "<!-- 1&#45;&gt;3 -->\n",
       "<g id=\"edge3\" class=\"edge\">\n",
       "<title>1&#45;&gt;3</title>\n",
       "<path fill=\"none\" stroke=\"black\" d=\"M256.25,-93.21C256.25,-85.35 256.25,-77 256.25,-69.03\"/>\n",
       "<polygon fill=\"black\" stroke=\"black\" points=\"259.75,-69.24 256.25,-59.24 252.75,-69.24 259.75,-69.24\"/>\n",
       "</g>\n",
       "<!-- 5 -->\n",
       "<g id=\"node6\" class=\"node\">\n",
       "<title>5</title>\n",
       "<path fill=\"#ffffff\" stroke=\"black\" d=\"M500.5,-57.5C500.5,-57.5 366,-57.5 366,-57.5 360,-57.5 354,-51.5 354,-45.5 354,-45.5 354,-12 354,-12 354,-6 360,0 366,0 366,0 500.5,0 500.5,0 506.5,0 512.5,-6 512.5,-12 512.5,-12 512.5,-45.5 512.5,-45.5 512.5,-51.5 506.5,-57.5 500.5,-57.5\"/>\n",
       "<text text-anchor=\"middle\" x=\"433.25\" y=\"-40.2\" font-family=\"Helvetica,sans-Serif\" font-size=\"14.00\">squared_error = 0.025</text>\n",
       "<text text-anchor=\"middle\" x=\"433.25\" y=\"-23.7\" font-family=\"Helvetica,sans-Serif\" font-size=\"14.00\">samples = 130</text>\n",
       "<text text-anchor=\"middle\" x=\"433.25\" y=\"-7.2\" font-family=\"Helvetica,sans-Serif\" font-size=\"14.00\">value = 0.165</text>\n",
       "</g>\n",
       "<!-- 4&#45;&gt;5 -->\n",
       "<g id=\"edge5\" class=\"edge\">\n",
       "<title>4&#45;&gt;5</title>\n",
       "<path fill=\"none\" stroke=\"black\" d=\"M433.25,-93.21C433.25,-85.35 433.25,-77 433.25,-69.03\"/>\n",
       "<polygon fill=\"black\" stroke=\"black\" points=\"436.75,-69.24 433.25,-59.24 429.75,-69.24 436.75,-69.24\"/>\n",
       "</g>\n",
       "<!-- 6 -->\n",
       "<g id=\"node7\" class=\"node\">\n",
       "<title>6</title>\n",
       "<path fill=\"#eda876\" stroke=\"black\" d=\"M677.5,-57.5C677.5,-57.5 543,-57.5 543,-57.5 537,-57.5 531,-51.5 531,-45.5 531,-45.5 531,-12 531,-12 531,-6 537,0 543,0 543,0 677.5,0 677.5,0 683.5,0 689.5,-6 689.5,-12 689.5,-12 689.5,-45.5 689.5,-45.5 689.5,-51.5 683.5,-57.5 677.5,-57.5\"/>\n",
       "<text text-anchor=\"middle\" x=\"610.25\" y=\"-40.2\" font-family=\"Helvetica,sans-Serif\" font-size=\"14.00\">squared_error = 0.034</text>\n",
       "<text text-anchor=\"middle\" x=\"610.25\" y=\"-23.7\" font-family=\"Helvetica,sans-Serif\" font-size=\"14.00\">samples = 39</text>\n",
       "<text text-anchor=\"middle\" x=\"610.25\" y=\"-7.2\" font-family=\"Helvetica,sans-Serif\" font-size=\"14.00\">value = 0.669</text>\n",
       "</g>\n",
       "<!-- 4&#45;&gt;6 -->\n",
       "<g id=\"edge6\" class=\"edge\">\n",
       "<title>4&#45;&gt;6</title>\n",
       "<path fill=\"none\" stroke=\"black\" d=\"M497.9,-93.06C515.07,-83.39 533.54,-72.98 550.44,-63.46\"/>\n",
       "<polygon fill=\"black\" stroke=\"black\" points=\"551.87,-66.67 558.87,-58.71 548.44,-60.57 551.87,-66.67\"/>\n",
       "</g>\n",
       "</g>\n",
       "</svg>\n"
      ],
      "text/plain": [
       "<graphviz.sources.Source at 0x2226f582a10>"
      ]
     },
     "execution_count": 45,
     "metadata": {},
     "output_type": "execute_result"
    }
   ],
   "source": [
    "# 파일로 출력\n",
    "with open('decision_tree.dot') as f :\n",
    "    dot_graph = f.read()\n",
    "    \n",
    "src = Source(dot_graph)\n",
    "src"
   ]
  },
  {
   "cell_type": "code",
   "execution_count": 46,
   "id": "d0180330",
   "metadata": {},
   "outputs": [
    {
     "name": "stdout",
     "output_type": "stream",
     "text": [
      "[1.]\n"
     ]
    }
   ],
   "source": [
    "print(tree_reg.feature_importances_)"
   ]
  },
  {
   "cell_type": "code",
   "execution_count": 49,
   "id": "edaca913",
   "metadata": {},
   "outputs": [
    {
     "name": "stdout",
     "output_type": "stream",
     "text": [
      "Index(['CRIM', 'ZN', 'INDUS', 'CHAS', 'NOX', 'RM', 'AGE', 'DIS', 'RAD', 'TAX',\n",
      "       'PTRATIO', 'B', 'LSTAT'],\n",
      "      dtype='object')\n",
      "[0.071 0.001 0.004 0.001 0.026 0.576 0.013 0.072 0.001 0.012 0.021 0.006\n",
      " 0.195]\n"
     ]
    }
   ],
   "source": [
    "tree_reg = DecisionTreeRegressor(max_depth = 12 , random_state = 42)\n",
    "tree_reg.fit(X_data, y_target)\n",
    "print(X_data.columns)\n",
    "# 피쳐의 중요도 6번째('RM'), 13번째 ('LSTAT')가 제일 중요\n",
    "print(tree_reg.feature_importances_)"
   ]
  },
  {
   "cell_type": "code",
   "execution_count": null,
   "id": "d998bf0d",
   "metadata": {},
   "outputs": [],
   "source": [
    "# 시각화\n",
    "from graphviz import Source\n",
    "from sklearn.tree import export_graphviz\n",
    "\n",
    "# decision_tree_dot이라는 파일로 저장\n",
    "export_graphviz(tree_reg, out_file = 'decision_tree.dot',\n",
    "               feature_names =['X'], class_names = ['y'],\n",
    "               rounded = True, filled = True)"
   ]
  },
  {
   "cell_type": "markdown",
   "id": "187e98f8",
   "metadata": {},
   "source": [
    "## SVM - 선형"
   ]
  },
  {
   "cell_type": "code",
   "execution_count": 60,
   "id": "86e63cd6",
   "metadata": {},
   "outputs": [
    {
     "name": "stdout",
     "output_type": "stream",
     "text": [
      "0.1 : 0.775374300708636\n",
      "0.5 : 0.7631717017333474\n",
      "1.0 : 0.7932297588481433\n",
      "1.5 : 0.9299366061913275\n",
      "2.0 : 1.238665524020453\n"
     ]
    }
   ],
   "source": [
    "# 데이터 생성\n",
    "np.random.seed(42)\n",
    "m = 50\n",
    "X = 2 * np.random.rand(m, 1)\n",
    "y = (4 + 3 * X + np.random.randn(m, 1))\n",
    "\n",
    "X_train = X[:40]\n",
    "y_train = y[:40]\n",
    "\n",
    "X_test = X[40:]\n",
    "y_test = y[40:]\n",
    "\n",
    "# 선형 SVM 생성 및 훈련\n",
    "from sklearn.svm import LinearSVR\n",
    "# epsilon 은 결정 경계의 폭 - 이 안에 데이터를 배치\n",
    "# 이 값이 작을수록 훈련 데이터에 정확해지고 클수록 훈련 데이터와 잘 맞지 않게 됩니다.\n",
    "epsilons = [0.1, 0.5, 1.0, 1.5, 2.0]\n",
    "\n",
    "for epsilon in epsilons :\n",
    "    svm_reg = LinearSVR(epsilon = epsilon, random_state = 42)\n",
    "    svm_reg.fit(X_train, y_train)\n",
    "\n",
    "    # 예측\n",
    "    y_pred = svm_reg.predict(X_test)\n",
    "    # print(y_pred)\n",
    "    from sklearn.metrics import mean_squared_error\n",
    "\n",
    "    mse = mean_squared_error(y_test, y_pred)\n",
    "    rmse = np.sqrt(mse)\n",
    "    print(epsilon, ':', rmse)\n",
    "    \n",
    "# 0.5까지는 작아졌는데, 그 이후론 커졌다! 즉 0.5를 사용하는 것이 좋다!"
   ]
  },
  {
   "cell_type": "markdown",
   "id": "ece21de6",
   "metadata": {},
   "source": [
    "## 투표기반 분류기"
   ]
  },
  {
   "cell_type": "markdown",
   "id": "2f5f7abf",
   "metadata": {},
   "source": [
    "### 직접 투표 방식"
   ]
  },
  {
   "cell_type": "code",
   "execution_count": 62,
   "id": "0fd50cfa",
   "metadata": {},
   "outputs": [],
   "source": [
    "# 사용할 데이터 생성\n",
    "from sklearn.model_selection import train_test_split\n",
    "from sklearn.datasets import make_moons\n",
    "\n",
    "X, y = make_moons(n_samples = 500, noise = 0.30, random_state = 42)\n",
    "X_train, X_test, y_train, y_test = train_test_split(X, y, random_state = 42)"
   ]
  },
  {
   "cell_type": "code",
   "execution_count": 65,
   "id": "edaf46ea",
   "metadata": {},
   "outputs": [
    {
     "name": "stdout",
     "output_type": "stream",
     "text": [
      "LogisticRegression 0.864\n",
      "SVC 0.896\n",
      "RandomForestClassifier 0.896\n",
      "VotingClassifier 0.912\n"
     ]
    }
   ],
   "source": [
    "# 분류기 생성\n",
    "\n",
    "# 개별 분류기\n",
    "from sklearn.linear_model import LogisticRegression\n",
    "from sklearn.svm import SVC\n",
    "from sklearn.ensemble import RandomForestClassifier\n",
    "\n",
    "log_clf = LogisticRegression(solver = 'lbfgs', random_state = 42)\n",
    "svm_clf = SVC(gamma = 'scale', random_state = 42)\n",
    "rnd_clf = RandomForestClassifier(n_estimators = 100, random_state = 42)\n",
    "\n",
    "# 직접 투표 기반 분류기\n",
    "from sklearn.ensemble import VotingClassifier\n",
    "voting_clf = VotingClassifier(\n",
    "    estimators = [('lr', log_clf), ('svc', svm_clf), ('rf', rnd_clf)],\n",
    "    voting = 'hard'\n",
    ")\n",
    "\n",
    "# 평가 지표 확인\n",
    "from sklearn.metrics import accuracy_score\n",
    "\n",
    "for clf in (log_clf, svm_clf, rnd_clf, voting_clf) :\n",
    "    clf.fit(X_train, y_train)\n",
    "    y_pred = clf.predict(X_test)\n",
    "    print(clf.__class__.__name__, accuracy_score(y_test, y_pred))"
   ]
  },
  {
   "cell_type": "markdown",
   "id": "17e78e1d",
   "metadata": {},
   "source": [
    "### 간접 투표 방식"
   ]
  },
  {
   "cell_type": "code",
   "execution_count": 69,
   "id": "0d684616",
   "metadata": {},
   "outputs": [],
   "source": [
    "# 확률을 가지로 계산을 해서 분류\n",
    "# 모든 예측기가 predict_proba()를 호출할 수 있어야 합니다.\n",
    "# SVM 은 기본적으로 predict_proba()를 가지고 있지만 사용을 못합\n",
    "# 인스턴스를 만들때 probability = True 를 추가해 확률을 구해야 함\n",
    "svm_clf = SVC(gamma = \"scale\", probability = True, random_state= 42)"
   ]
  },
  {
   "cell_type": "code",
   "execution_count": 70,
   "id": "b584d09c",
   "metadata": {},
   "outputs": [
    {
     "name": "stdout",
     "output_type": "stream",
     "text": [
      "LogisticRegression 0.864\n",
      "SVC 0.896\n",
      "RandomForestClassifier 0.896\n",
      "VotingClassifier 0.92\n"
     ]
    }
   ],
   "source": [
    "# 간접 투표 기반 분류기\n",
    "from sklearn.ensemble import VotingClassifier\n",
    "voting_clf = VotingClassifier(\n",
    "    estimators = [('lr', log_clf), ('svc', svm_clf), ('rf', rnd_clf)],\n",
    "    voting = 'soft'\n",
    ")\n",
    "\n",
    "# 평가 지표 확인\n",
    "from sklearn.metrics import accuracy_score\n",
    "\n",
    "for clf in (log_clf, svm_clf, rnd_clf, voting_clf) :\n",
    "    clf.fit(X_train, y_train)\n",
    "    y_pred = clf.predict(X_test)\n",
    "    print(clf.__class__.__name__, accuracy_score(y_test, y_pred))\n"
   ]
  },
  {
   "cell_type": "markdown",
   "id": "78e4409d",
   "metadata": {},
   "source": [
    "## Bagging과 Pasting"
   ]
  },
  {
   "cell_type": "markdown",
   "id": "96a0d680",
   "metadata": {},
   "source": [
    "### 트리모델과 트리 의 배깅 모델을 비교"
   ]
  },
  {
   "cell_type": "code",
   "execution_count": 71,
   "id": "4f8cab3b",
   "metadata": {},
   "outputs": [],
   "source": [
    "# 사용할 데이터 생성\n",
    "from sklearn.model_selection import train_test_split\n",
    "from sklearn.datasets import make_moons\n",
    "\n",
    "X, y = make_moons(n_samples = 500, noise = 0.30, random_state = 42)\n",
    "X_train, X_test, y_train, y_test = train_test_split(X, y, random_state = 42)"
   ]
  },
  {
   "cell_type": "code",
   "execution_count": 72,
   "id": "ec37cd63",
   "metadata": {},
   "outputs": [
    {
     "name": "stdout",
     "output_type": "stream",
     "text": [
      "0.856\n"
     ]
    }
   ],
   "source": [
    "# 결정 트리 모델의 정확도\n",
    "from sklearn.tree import DecisionTreeClassifier\n",
    "\n",
    "tree_clf = DecisionTreeClassifier(random_state = 42)\n",
    "tree_clf.fit(X_train, y_train)\n",
    "\n",
    "y_pred = tree_clf.predict(X_test)\n",
    "print(accuracy_score(y_test, y_pred))"
   ]
  },
  {
   "cell_type": "code",
   "execution_count": 76,
   "id": "9fa8fc30",
   "metadata": {},
   "outputs": [
    {
     "name": "stdout",
     "output_type": "stream",
     "text": [
      "0.904\n"
     ]
    }
   ],
   "source": [
    "from sklearn.ensemble import BaggingClassifier\n",
    "\n",
    "# 결정 트리를 500개 생성\n",
    "#각 트리의 샘플 데이터 개수는 최대 100개이고 복원 추출을 수행\n",
    "\n",
    "bag_clf = BaggingClassifier(DecisionTreeClassifier(), random_state = 42,\n",
    "                           n_estimators = 500, max_samples = 100,\n",
    "                           bootstrap = True)\n",
    "bag_clf.fit(X_train, y_train)\n",
    "\n",
    "y_pred = bag_clf.predict(X_test)\n",
    "print(accuracy_score(y_test, y_pred))"
   ]
  },
  {
   "cell_type": "code",
   "execution_count": null,
   "id": "56147d66",
   "metadata": {},
   "outputs": [],
   "source": [
    "# 앙상블의 예측이 결정 트리 하나의 예측 보다 일반화가 잘 됨\n",
    "# 앙상블은 비슷한 편향을 가지지만 더 작은 분산을 만듬"
   ]
  },
  {
   "cell_type": "markdown",
   "id": "84ee8c17",
   "metadata": {},
   "source": [
    "### oob 평가"
   ]
  },
  {
   "cell_type": "code",
   "execution_count": 77,
   "id": "16328855",
   "metadata": {},
   "outputs": [
    {
     "name": "stdout",
     "output_type": "stream",
     "text": [
      "0.9253333333333333\n"
     ]
    }
   ],
   "source": [
    "# 테스트 데이터를 별도로 생성하지 않고 훈련에 사용하지 않은 데이터를 이용해서 검증\n",
    "bag_clf = BaggingClassifier(DecisionTreeClassifier(), random_state = 42,\n",
    "                           n_estimators = 500, max_samples = 100,\n",
    "                           bootstrap = True, oob_score = True)\n",
    "bag_clf.fit(X_train, y_train)\n",
    "print(bag_clf.oob_score_)"
   ]
  },
  {
   "cell_type": "markdown",
   "id": "9d94688e",
   "metadata": {},
   "source": [
    "## RandomForest"
   ]
  },
  {
   "cell_type": "markdown",
   "id": "fa4f4002",
   "metadata": {},
   "source": [
    "### RandomForest 와 Decision Tree의 배깅"
   ]
  },
  {
   "cell_type": "code",
   "execution_count": 79,
   "id": "4b7a1331",
   "metadata": {},
   "outputs": [],
   "source": [
    "bag_clf = BaggingClassifier(DecisionTreeClassifier(max_features = 'sqrt',\n",
    "                                              max_leaf_nodes = 16),\n",
    "                           n_estimators = 500, random_state = 42)\n",
    "bag_clf.fit(X_train, y_train)\n",
    "y_pred = bag_clf.predict(X_test)"
   ]
  },
  {
   "cell_type": "code",
   "execution_count": 80,
   "id": "5c7e95a4",
   "metadata": {},
   "outputs": [],
   "source": [
    "from sklearn.ensemble import RandomForestClassifier\n",
    "rnd_clf = RandomForestClassifier(n_estimators = 500,\n",
    "                                max_leaf_nodes = 16,\n",
    "                                random_state = 42)\n",
    "rnd_clf.fit(X_train, y_train)\n",
    "y_pred_rf = rnd_clf.predict(X_test)"
   ]
  },
  {
   "cell_type": "code",
   "execution_count": 81,
   "id": "c3c7af79",
   "metadata": {},
   "outputs": [
    {
     "name": "stdout",
     "output_type": "stream",
     "text": [
      "1.0\n"
     ]
    }
   ],
   "source": [
    "# 양쪽이 모두 일치하면 1.0 \n",
    "print(np.sum(y_pred == y_pred_rf)/len(y_pred))"
   ]
  },
  {
   "cell_type": "markdown",
   "id": "3cb720b6",
   "metadata": {},
   "source": [
    "### iris 데이터의 예측에서 특성 중요도 확인"
   ]
  },
  {
   "cell_type": "code",
   "execution_count": 82,
   "id": "cf4acfc8",
   "metadata": {},
   "outputs": [
    {
     "name": "stdout",
     "output_type": "stream",
     "text": [
      "sepal length (cm) 0.11249225099876375\n",
      "sepal width (cm) 0.02311928828251033\n",
      "petal length (cm) 0.4410304643639577\n",
      "petal width (cm) 0.4233579963547682\n"
     ]
    }
   ],
   "source": [
    "from sklearn.datasets import load_iris\n",
    "iris = load_iris()\n",
    "\n",
    "# iri 데이터 \n",
    "\n",
    "rnd_clf = RandomForestClassifier(n_estimators = 500, random_state = 42)\n",
    "rnd_clf.fit(iris['data'], iris['target'])\n",
    "for name, score in zip(iris['feature_names'], rnd_clf.feature_importances_) :\n",
    "    print(name, score)\n"
   ]
  },
  {
   "cell_type": "markdown",
   "id": "e5a29523",
   "metadata": {},
   "source": [
    "## MNIST 데이터의 특성 중요도 시각화"
   ]
  },
  {
   "cell_type": "code",
   "execution_count": 84,
   "id": "7a067e33",
   "metadata": {},
   "outputs": [],
   "source": [
    "from sklearn.datasets import fetch_openml\n",
    "\n",
    "# 28*28 짜리 이미지 가져오기\n",
    "# 특성의 개수가 784개\n",
    "mnist = fetch_openml('mnist_784', version = 1)\n",
    "\n",
    "# 타겟을 정수로 변환\n",
    "mnist.target = mnist.target.astype(np.uint8)"
   ]
  },
  {
   "cell_type": "code",
   "execution_count": 85,
   "id": "fa08a045",
   "metadata": {},
   "outputs": [
    {
     "data": {
      "text/html": [
       "<style>#sk-container-id-4 {color: black;}#sk-container-id-4 pre{padding: 0;}#sk-container-id-4 div.sk-toggleable {background-color: white;}#sk-container-id-4 label.sk-toggleable__label {cursor: pointer;display: block;width: 100%;margin-bottom: 0;padding: 0.3em;box-sizing: border-box;text-align: center;}#sk-container-id-4 label.sk-toggleable__label-arrow:before {content: \"▸\";float: left;margin-right: 0.25em;color: #696969;}#sk-container-id-4 label.sk-toggleable__label-arrow:hover:before {color: black;}#sk-container-id-4 div.sk-estimator:hover label.sk-toggleable__label-arrow:before {color: black;}#sk-container-id-4 div.sk-toggleable__content {max-height: 0;max-width: 0;overflow: hidden;text-align: left;background-color: #f0f8ff;}#sk-container-id-4 div.sk-toggleable__content pre {margin: 0.2em;color: black;border-radius: 0.25em;background-color: #f0f8ff;}#sk-container-id-4 input.sk-toggleable__control:checked~div.sk-toggleable__content {max-height: 200px;max-width: 100%;overflow: auto;}#sk-container-id-4 input.sk-toggleable__control:checked~label.sk-toggleable__label-arrow:before {content: \"▾\";}#sk-container-id-4 div.sk-estimator input.sk-toggleable__control:checked~label.sk-toggleable__label {background-color: #d4ebff;}#sk-container-id-4 div.sk-label input.sk-toggleable__control:checked~label.sk-toggleable__label {background-color: #d4ebff;}#sk-container-id-4 input.sk-hidden--visually {border: 0;clip: rect(1px 1px 1px 1px);clip: rect(1px, 1px, 1px, 1px);height: 1px;margin: -1px;overflow: hidden;padding: 0;position: absolute;width: 1px;}#sk-container-id-4 div.sk-estimator {font-family: monospace;background-color: #f0f8ff;border: 1px dotted black;border-radius: 0.25em;box-sizing: border-box;margin-bottom: 0.5em;}#sk-container-id-4 div.sk-estimator:hover {background-color: #d4ebff;}#sk-container-id-4 div.sk-parallel-item::after {content: \"\";width: 100%;border-bottom: 1px solid gray;flex-grow: 1;}#sk-container-id-4 div.sk-label:hover label.sk-toggleable__label {background-color: #d4ebff;}#sk-container-id-4 div.sk-serial::before {content: \"\";position: absolute;border-left: 1px solid gray;box-sizing: border-box;top: 0;bottom: 0;left: 50%;z-index: 0;}#sk-container-id-4 div.sk-serial {display: flex;flex-direction: column;align-items: center;background-color: white;padding-right: 0.2em;padding-left: 0.2em;position: relative;}#sk-container-id-4 div.sk-item {position: relative;z-index: 1;}#sk-container-id-4 div.sk-parallel {display: flex;align-items: stretch;justify-content: center;background-color: white;position: relative;}#sk-container-id-4 div.sk-item::before, #sk-container-id-4 div.sk-parallel-item::before {content: \"\";position: absolute;border-left: 1px solid gray;box-sizing: border-box;top: 0;bottom: 0;left: 50%;z-index: -1;}#sk-container-id-4 div.sk-parallel-item {display: flex;flex-direction: column;z-index: 1;position: relative;background-color: white;}#sk-container-id-4 div.sk-parallel-item:first-child::after {align-self: flex-end;width: 50%;}#sk-container-id-4 div.sk-parallel-item:last-child::after {align-self: flex-start;width: 50%;}#sk-container-id-4 div.sk-parallel-item:only-child::after {width: 0;}#sk-container-id-4 div.sk-dashed-wrapped {border: 1px dashed gray;margin: 0 0.4em 0.5em 0.4em;box-sizing: border-box;padding-bottom: 0.4em;background-color: white;}#sk-container-id-4 div.sk-label label {font-family: monospace;font-weight: bold;display: inline-block;line-height: 1.2em;}#sk-container-id-4 div.sk-label-container {text-align: center;}#sk-container-id-4 div.sk-container {/* jupyter's `normalize.less` sets `[hidden] { display: none; }` but bootstrap.min.css set `[hidden] { display: none !important; }` so we also need the `!important` here to be able to override the default hidden behavior on the sphinx rendered scikit-learn.org. See: https://github.com/scikit-learn/scikit-learn/issues/21755 */display: inline-block !important;position: relative;}#sk-container-id-4 div.sk-text-repr-fallback {display: none;}</style><div id=\"sk-container-id-4\" class=\"sk-top-container\"><div class=\"sk-text-repr-fallback\"><pre>RandomForestClassifier(n_estimators=500, random_state=42)</pre><b>In a Jupyter environment, please rerun this cell to show the HTML representation or trust the notebook. <br />On GitHub, the HTML representation is unable to render, please try loading this page with nbviewer.org.</b></div><div class=\"sk-container\" hidden><div class=\"sk-item\"><div class=\"sk-estimator sk-toggleable\"><input class=\"sk-toggleable__control sk-hidden--visually\" id=\"sk-estimator-id-4\" type=\"checkbox\" checked><label for=\"sk-estimator-id-4\" class=\"sk-toggleable__label sk-toggleable__label-arrow\">RandomForestClassifier</label><div class=\"sk-toggleable__content\"><pre>RandomForestClassifier(n_estimators=500, random_state=42)</pre></div></div></div></div></div>"
      ],
      "text/plain": [
       "RandomForestClassifier(n_estimators=500, random_state=42)"
      ]
     },
     "execution_count": 85,
     "metadata": {},
     "output_type": "execute_result"
    }
   ],
   "source": [
    "rnd_clf = RandomForestClassifier(n_estimators = 500, random_state = 42)\n",
    "rnd_clf.fit(mnist.data, mnist['target'])"
   ]
  },
  {
   "cell_type": "code",
   "execution_count": 87,
   "id": "322d8f81",
   "metadata": {},
   "outputs": [
    {
     "data": {
      "image/png": "[encoded data removed]",
      "text/plain": [
       "<Figure size 640x480 with 2 Axes>"
      ]
     },
     "metadata": {},
     "output_type": "display_data"
    }
   ],
   "source": [
    "# 이미지 출력하는 함수\n",
    "def plot_digit(data) :\n",
    "    image = data.reshape(28, 28)\n",
    "    plt.imshow(image, cmap=mpl.cm.hot, interpolation = 'nearest')\n",
    "    \n",
    "plot_digit(rnd_clf.feature_importances_)\n",
    "cbar = plt.colorbar(ticks =[rnd_clf.feature_importances_.min(),\n",
    "                           rnd_clf.feature_importances_.max()])\n",
    "cbar.ax.set_yticklabels(['덜 중요', '많이 중요'])\n",
    "plt.show()\n",
    "\n",
    "# 이미지의 외곽부분은 분류에 미치는 효과가 거의 없고, \n",
    "# 중앙 부분의 데이터가 이미지 분류에 영향을 많이 주므로 \n",
    "# 이 이미지는 가운데 부분만 잘라서 학습을 해도 무방합니다. \n",
    "# 이런 경우 이미지를 자르면 피쳐의 수가 줄어서 학습 시간도 줄고,\n",
    "# 예측을 할 때 일반화 가능성이 높아집니다."
   ]
  },
  {
   "cell_type": "markdown",
   "id": "2778b59f",
   "metadata": {},
   "source": [
    "### 하이퍼 파라미터 튜닝"
   ]
  },
  {
   "cell_type": "code",
   "execution_count": 92,
   "id": "23e9b66f",
   "metadata": {},
   "outputs": [
    {
     "name": "stdout",
     "output_type": "stream",
     "text": [
      "최적의 파라미터 :  {'max_depth': 4, 'min_samples_leaf': 3, 'n_estimators': 100}\n"
     ]
    }
   ],
   "source": [
    "from sklearn.datasets import load_iris\n",
    "iris = load_iris()\n",
    "\n",
    "# help(RandomForestClassifier)\n",
    "# 하이퍼 파라미터 튜닝을 위한 파라미터를 생성\n",
    "# 기본은 dictionary(문자열 - 하이퍼 파라미터 이름과 리스트- 값들로 구성)\n",
    "# dictionary 내부의 list들은 전부 곱한만큼의 조합\n",
    "# 이러한 dictionary들을 list로 묶으면 별개로 조합 (더하기)\n",
    "\n",
    "params = {\n",
    "    'n_estimators' : [100, 200, 300], \n",
    "    'max_depth' : [4, 6, 8, 10],\n",
    "    'min_samples_leaf' : [2, 3, 4, 6]\n",
    "} \n",
    "\n",
    "from sklearn.model_selection import GridSearchCV\n",
    "\n",
    "# 모델 생성\n",
    "rf_clf = RandomForestClassifier(random_state = 42, n_jobs = -1)\n",
    "# GridSearchCV 인스턴스 생성\n",
    "grid_cv = GridSearchCV(rf_clf, param_grid = params, cv = 3, n_jobs = -1)\n",
    "# 훈련\n",
    "grid_cv.fit(iris.data, iris.target)\n",
    "# 최적의 파라미터 확인\n",
    "print('최적의 파라미터 : ', grid_cv.best_params_)"
   ]
  },
  {
   "cell_type": "code",
   "execution_count": 93,
   "id": "6d54f140",
   "metadata": {},
   "outputs": [
    {
     "name": "stdout",
     "output_type": "stream",
     "text": [
      "최적의 분류기 : RandomForestClassifier(max_depth=4, min_samples_leaf=3, n_jobs=-1,\n",
      "                       random_state=42)\n"
     ]
    }
   ],
   "source": [
    "# 최적의 분류기\n",
    "print('최적의 분류기 :', grid_cv.best_estimator_)"
   ]
  },
  {
   "cell_type": "markdown",
   "id": "04d6abd5",
   "metadata": {},
   "source": [
    "### ExtraTree"
   ]
  },
  {
   "cell_type": "code",
   "execution_count": 95,
   "id": "cabab5d5",
   "metadata": {},
   "outputs": [
    {
     "name": "stdout",
     "output_type": "stream",
     "text": [
      "sepal length (cm) 0.09171035483672016\n",
      "sepal width (cm) 0.054909352517916524\n",
      "petal length (cm) 0.4218042002574349\n",
      "petal width (cm) 0.4315760923879283\n"
     ]
    }
   ],
   "source": [
    "from sklearn.ensemble import ExtraTreesClassifier\n",
    "iris = load_iris()\n",
    "rnd_clf = ExtraTreesClassifier(n_estimators = 500, random_state = 42)\n",
    "rnd_clf.fit(iris['data'], iris['target'])\n",
    "for name, score in zip(iris['feature_names'], rnd_clf.feature_importances_) :\n",
    "    print(name, score)\n",
    "\n",
    "# petai length 와 petal width 의 순서가 바뀜"
   ]
  },
  {
   "cell_type": "code",
   "execution_count": null,
   "id": "4fd8f4d5",
   "metadata": {},
   "outputs": [],
   "source": []
  },
  {
   "cell_type": "code",
   "execution_count": null,
   "id": "a1f2d990",
   "metadata": {},
   "outputs": [],
   "source": []
  }
 ],
 "metadata": {
  "kernelspec": {
   "display_name": "Python 3 (ipykernel)",
   "language": "python",
   "name": "python3"
  },
  "language_info": {
   "codemirror_mode": {
    "name": "ipython",
    "version": 3
   },
   "file_extension": ".py",
   "mimetype": "text/x-python",
   "name": "python",
   "nbconvert_exporter": "python",
   "pygments_lexer": "ipython3",
   "version": "3.11.5"
  }
 },
 "nbformat": 4,
 "nbformat_minor": 5
}
